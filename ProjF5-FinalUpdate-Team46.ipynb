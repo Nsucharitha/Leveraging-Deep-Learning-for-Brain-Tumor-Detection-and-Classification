{
  "cells": [
    {
      "cell_type": "markdown",
      "metadata": {
        "nbgrader": {
          "grade": false,
          "locked": true,
          "solution": false
        },
        "id": "QxpO46Ul8qp0"
      },
      "source": [
        "## ProjF5 - Final Model\n",
        "\n",
        "Use this document as a template to provide the evaluation of your final model. You are welcome to go in as much depth as needed.\n",
        "\n",
        "Make sure you keep the sections specified in this template, but you are welcome to add more cells with your code or explanation as needed."
      ]
    },
    {
      "cell_type": "code",
      "source": [
        "from google.colab import drive\n",
        "drive.mount('/content/drive')"
      ],
      "metadata": {
        "colab": {
          "base_uri": "https://localhost:8080/"
        },
        "id": "mv99XuJQsje7",
        "outputId": "4df2c93f-88d3-42b3-bc21-766518e17d6c"
      },
      "execution_count": 52,
      "outputs": [
        {
          "output_type": "stream",
          "name": "stdout",
          "text": [
            "Drive already mounted at /content/drive; to attempt to forcibly remount, call drive.mount(\"/content/drive\", force_remount=True).\n"
          ]
        }
      ]
    },
    {
      "cell_type": "code",
      "execution_count": 53,
      "metadata": {
        "nbgrader": {
          "grade": false,
          "locked": true,
          "solution": false
        },
        "id": "ibqBgqcr8qp3"
      },
      "outputs": [],
      "source": [
        "import numpy as np\n",
        "import pandas as pd\n",
        "import matplotlib.pyplot as plt"
      ]
    },
    {
      "cell_type": "markdown",
      "metadata": {
        "nbgrader": {
          "grade": false,
          "locked": true,
          "solution": false
        },
        "id": "DVrK750r8qp4"
      },
      "source": [
        "### 1. Load and Prepare Data\n",
        "\n",
        "This should illustrate your code for loading the dataset and the split into training, validation and testing. You can add steps like pre-processing if needed."
      ]
    },
    {
      "cell_type": "code",
      "execution_count": 54,
      "metadata": {
        "nbgrader": {
          "grade": false,
          "locked": true,
          "solution": false
        },
        "id": "WB3iJ5Rl8qp4"
      },
      "outputs": [],
      "source": [
        "### YOUR CODE HERE\n",
        "##TRAIN\n",
        "import os\n",
        "import os.path\n",
        "from pathlib import Path\n",
        "No_Data_Path = Path(\"drive/MyDrive/sample_data/no\")\n",
        "Yes_Data_Path = Path(\"drive/MyDrive/sample_data/yes\")\n",
        "\n",
        "No_JPG_Path = list(No_Data_Path.glob(r\"*.jpg\"))\n",
        "Yes_JPG_Path = list(Yes_Data_Path.glob(r\"*.jpg\"))"
      ]
    },
    {
      "cell_type": "code",
      "source": [
        "print(No_JPG_Path[0:5])\n",
        "print(\"-----\"*20)\n",
        "print(Yes_JPG_Path[0:5])"
      ],
      "metadata": {
        "id": "QfJ-owDOck7z",
        "colab": {
          "base_uri": "https://localhost:8080/"
        },
        "outputId": "59cba9cb-d108-4585-a7c3-132eed8e2f83"
      },
      "execution_count": 55,
      "outputs": [
        {
          "output_type": "stream",
          "name": "stdout",
          "text": [
            "[PosixPath('drive/MyDrive/sample_data/no/no1062.jpg'), PosixPath('drive/MyDrive/sample_data/no/no122.jpg'), PosixPath('drive/MyDrive/sample_data/no/no144.jpg'), PosixPath('drive/MyDrive/sample_data/no/no1333.jpg'), PosixPath('drive/MyDrive/sample_data/no/no1187.jpg')]\n",
            "----------------------------------------------------------------------------------------------------\n",
            "[PosixPath('drive/MyDrive/sample_data/yes/y1475.jpg'), PosixPath('drive/MyDrive/sample_data/yes/y165.jpg'), PosixPath('drive/MyDrive/sample_data/yes/y1237.jpg'), PosixPath('drive/MyDrive/sample_data/yes/y1311.jpg'), PosixPath('drive/MyDrive/sample_data/yes/y1056.jpg')]\n"
          ]
        }
      ]
    },
    {
      "cell_type": "code",
      "source": [
        "Yes_No_List = []\n",
        "\n",
        "for No_JPG in No_JPG_Path:\n",
        "    Yes_No_List.append(No_JPG)\n",
        "\n",
        "for Yes_JPG in Yes_JPG_Path:\n",
        "    Yes_No_List.append(Yes_JPG)"
      ],
      "metadata": {
        "id": "tYXDclT_cnz0"
      },
      "execution_count": 56,
      "outputs": []
    },
    {
      "cell_type": "code",
      "source": [
        "print(Yes_No_List[0:10])"
      ],
      "metadata": {
        "id": "SXoYItO3cyyh",
        "colab": {
          "base_uri": "https://localhost:8080/"
        },
        "outputId": "cdf606fa-396c-4206-882d-529a49310941"
      },
      "execution_count": 57,
      "outputs": [
        {
          "output_type": "stream",
          "name": "stdout",
          "text": [
            "[PosixPath('drive/MyDrive/sample_data/no/no1062.jpg'), PosixPath('drive/MyDrive/sample_data/no/no122.jpg'), PosixPath('drive/MyDrive/sample_data/no/no144.jpg'), PosixPath('drive/MyDrive/sample_data/no/no1333.jpg'), PosixPath('drive/MyDrive/sample_data/no/no1187.jpg'), PosixPath('drive/MyDrive/sample_data/no/no186.jpg'), PosixPath('drive/MyDrive/sample_data/no/no1327.jpg'), PosixPath('drive/MyDrive/sample_data/no/no1430.jpg'), PosixPath('drive/MyDrive/sample_data/no/no21.jpg'), PosixPath('drive/MyDrive/sample_data/no/no145.jpg')]\n"
          ]
        }
      ]
    },
    {
      "cell_type": "code",
      "source": [
        "JPG_Labels = list(map(lambda x: os.path.split(os.path.split(x)[0])[1],Yes_No_List))"
      ],
      "metadata": {
        "id": "qWN_CUhfczQx"
      },
      "execution_count": 58,
      "outputs": []
    },
    {
      "cell_type": "code",
      "source": [
        "print(JPG_Labels[0:10])\n",
        "print(\"NO COUNTING: \", JPG_Labels.count(\"no\"))\n",
        "print(\"YES COUNTING: \", JPG_Labels.count(\"yes\"))"
      ],
      "metadata": {
        "id": "K9HsYBVSc1Rm",
        "colab": {
          "base_uri": "https://localhost:8080/"
        },
        "outputId": "c33499bc-761d-44c4-d5d3-f6eb3624aaa0"
      },
      "execution_count": 59,
      "outputs": [
        {
          "output_type": "stream",
          "name": "stdout",
          "text": [
            "['no', 'no', 'no', 'no', 'no', 'no', 'no', 'no', 'no', 'no']\n",
            "NO COUNTING:  1500\n",
            "YES COUNTING:  1500\n"
          ]
        }
      ]
    },
    {
      "cell_type": "code",
      "source": [
        "JPG_Path_Series = pd.Series(Yes_No_List,name=\"JPG\").astype(str)\n",
        "JPG_Category_Series = pd.Series(JPG_Labels,name=\"TUMOR_CATEGORY\")"
      ],
      "metadata": {
        "id": "JXpKW2Gdc37x"
      },
      "execution_count": 60,
      "outputs": []
    },
    {
      "cell_type": "code",
      "source": [
        "##TEST\n",
        "Prediction_Path = Path(\"drive/MyDrive/sample_data/pred\")\n",
        "Test_JPG_Path = list(Prediction_Path.glob(r\"*.jpg\"))\n",
        "Test_JPG_Labels = list(map(lambda x: os.path.split(os.path.split(x)[0])[1],Test_JPG_Path))"
      ],
      "metadata": {
        "id": "FfPA2abmc55b"
      },
      "execution_count": 61,
      "outputs": []
    },
    {
      "cell_type": "code",
      "source": [
        "print(Test_JPG_Labels[0:5])"
      ],
      "metadata": {
        "id": "0wDFHGPgdAKR",
        "colab": {
          "base_uri": "https://localhost:8080/"
        },
        "outputId": "5e69d976-2fcd-4f0a-a19e-b50e54cb2855"
      },
      "execution_count": 62,
      "outputs": [
        {
          "output_type": "stream",
          "name": "stdout",
          "text": [
            "['pred', 'pred', 'pred', 'pred', 'pred']\n"
          ]
        }
      ]
    },
    {
      "cell_type": "code",
      "source": [
        "Test_JPG_Path_Series = pd.Series(Test_JPG_Path,name=\"JPG\").astype(str)\n",
        "Test_JPG_Labels_Series = pd.Series(Test_JPG_Labels,name=\"TUMOR_CATEGORY\")\n",
        "Test_Data = pd.concat([Test_JPG_Path_Series,Test_JPG_Labels_Series],axis=1)"
      ],
      "metadata": {
        "id": "x0kQ0G9jdA8i"
      },
      "execution_count": 63,
      "outputs": []
    },
    {
      "cell_type": "code",
      "source": [
        "print(Test_Data.head())"
      ],
      "metadata": {
        "id": "lhzSSwyqdDEx",
        "colab": {
          "base_uri": "https://localhost:8080/"
        },
        "outputId": "ac5c1be9-cc2b-445a-ad75-7a9efc9c01a8"
      },
      "execution_count": 64,
      "outputs": [
        {
          "output_type": "stream",
          "name": "stdout",
          "text": [
            "                                         JPG TUMOR_CATEGORY\n",
            "0  drive/MyDrive/sample_data/pred/pred39.jpg           pred\n",
            "1  drive/MyDrive/sample_data/pred/pred10.jpg           pred\n",
            "2  drive/MyDrive/sample_data/pred/pred38.jpg           pred\n",
            "3   drive/MyDrive/sample_data/pred/pred4.jpg           pred\n",
            "4   drive/MyDrive/sample_data/pred/pred6.jpg           pred\n"
          ]
        }
      ]
    },
    {
      "cell_type": "code",
      "source": [
        "# Main Train Data\n",
        "Main_Train_Data = pd.concat([JPG_Path_Series,JPG_Category_Series],axis=1)\n",
        "print(Main_Train_Data.head(-1))"
      ],
      "metadata": {
        "id": "dGSv-mmBdFQi",
        "colab": {
          "base_uri": "https://localhost:8080/"
        },
        "outputId": "45731bfd-40bd-4894-8b58-5a71a3f4309f"
      },
      "execution_count": 65,
      "outputs": [
        {
          "output_type": "stream",
          "name": "stdout",
          "text": [
            "                                          JPG TUMOR_CATEGORY\n",
            "0     drive/MyDrive/sample_data/no/no1062.jpg             no\n",
            "1      drive/MyDrive/sample_data/no/no122.jpg             no\n",
            "2      drive/MyDrive/sample_data/no/no144.jpg             no\n",
            "3     drive/MyDrive/sample_data/no/no1333.jpg             no\n",
            "4     drive/MyDrive/sample_data/no/no1187.jpg             no\n",
            "...                                       ...            ...\n",
            "2994  drive/MyDrive/sample_data/yes/y1173.jpg            yes\n",
            "2995  drive/MyDrive/sample_data/yes/y1258.jpg            yes\n",
            "2996   drive/MyDrive/sample_data/yes/y158.jpg            yes\n",
            "2997   drive/MyDrive/sample_data/yes/y156.jpg            yes\n",
            "2998  drive/MyDrive/sample_data/yes/y1243.jpg            yes\n",
            "\n",
            "[2999 rows x 2 columns]\n"
          ]
        }
      ]
    },
    {
      "cell_type": "code",
      "source": [
        "Main_Train_Data = Main_Train_Data.sample(frac=1).reset_index(drop=True)\n",
        "print(Main_Train_Data.head(-1))"
      ],
      "metadata": {
        "id": "Y8DCtaX0dHbW",
        "colab": {
          "base_uri": "https://localhost:8080/"
        },
        "outputId": "2e38c041-e454-4c2e-cce5-01010ad3e872"
      },
      "execution_count": 66,
      "outputs": [
        {
          "output_type": "stream",
          "name": "stdout",
          "text": [
            "                                          JPG TUMOR_CATEGORY\n",
            "0     drive/MyDrive/sample_data/yes/y1472.jpg            yes\n",
            "1      drive/MyDrive/sample_data/no/no789.jpg             no\n",
            "2      drive/MyDrive/sample_data/yes/y784.jpg            yes\n",
            "3      drive/MyDrive/sample_data/yes/y845.jpg            yes\n",
            "4      drive/MyDrive/sample_data/no/no811.jpg             no\n",
            "...                                       ...            ...\n",
            "2994  drive/MyDrive/sample_data/yes/y1121.jpg            yes\n",
            "2995   drive/MyDrive/sample_data/no/no402.jpg             no\n",
            "2996   drive/MyDrive/sample_data/yes/y658.jpg            yes\n",
            "2997  drive/MyDrive/sample_data/yes/y1127.jpg            yes\n",
            "2998  drive/MyDrive/sample_data/yes/y1277.jpg            yes\n",
            "\n",
            "[2999 rows x 2 columns]\n"
          ]
        }
      ]
    },
    {
      "cell_type": "code",
      "source": [
        "from sklearn.model_selection import train_test_split\n",
        "train_data,test_data = train_test_split(Main_Train_Data,train_size=0.9,random_state=42)"
      ],
      "metadata": {
        "id": "J509f6UUdJYw"
      },
      "execution_count": 67,
      "outputs": []
    },
    {
      "cell_type": "code",
      "source": [
        "print(train_data.shape)"
      ],
      "metadata": {
        "id": "3rWbaD1ZdMPu",
        "colab": {
          "base_uri": "https://localhost:8080/"
        },
        "outputId": "276558cb-5ffc-4804-f991-e1bf3b53a0fa"
      },
      "execution_count": 68,
      "outputs": [
        {
          "output_type": "stream",
          "name": "stdout",
          "text": [
            "(2700, 2)\n"
          ]
        }
      ]
    },
    {
      "cell_type": "code",
      "source": [
        "print(train_data.head())"
      ],
      "metadata": {
        "id": "0O39gHgTdPzm",
        "colab": {
          "base_uri": "https://localhost:8080/"
        },
        "outputId": "7db5e255-c1a3-4639-a13e-acece6fa107f"
      },
      "execution_count": 69,
      "outputs": [
        {
          "output_type": "stream",
          "name": "stdout",
          "text": [
            "                                          JPG TUMOR_CATEGORY\n",
            "433   drive/MyDrive/sample_data/no/no1226.jpg             no\n",
            "1151  drive/MyDrive/sample_data/no/no1056.jpg             no\n",
            "73    drive/MyDrive/sample_data/yes/y1137.jpg            yes\n",
            "1536   drive/MyDrive/sample_data/no/no834.jpg             no\n",
            "2709   drive/MyDrive/sample_data/yes/y643.jpg            yes\n"
          ]
        }
      ]
    },
    {
      "cell_type": "code",
      "source": [
        "print(test_data.shape)"
      ],
      "metadata": {
        "id": "5vKfkE0rdQRm",
        "colab": {
          "base_uri": "https://localhost:8080/"
        },
        "outputId": "52b4f7bd-8102-4b11-cecb-f252b58d2a6a"
      },
      "execution_count": 70,
      "outputs": [
        {
          "output_type": "stream",
          "name": "stdout",
          "text": [
            "(300, 2)\n"
          ]
        }
      ]
    },
    {
      "cell_type": "code",
      "source": [
        "print(test_data.head())"
      ],
      "metadata": {
        "id": "Qb9xci0CdS00",
        "colab": {
          "base_uri": "https://localhost:8080/"
        },
        "outputId": "84d27eda-e0e4-497c-c99d-314a2d7acaed"
      },
      "execution_count": 71,
      "outputs": [
        {
          "output_type": "stream",
          "name": "stdout",
          "text": [
            "                                          JPG TUMOR_CATEGORY\n",
            "1801  drive/MyDrive/sample_data/yes/y1337.jpg            yes\n",
            "1190   drive/MyDrive/sample_data/no/no384.jpg             no\n",
            "1817   drive/MyDrive/sample_data/yes/y184.jpg            yes\n",
            "251   drive/MyDrive/sample_data/no/no1157.jpg             no\n",
            "2505  drive/MyDrive/sample_data/yes/y1255.jpg            yes\n"
          ]
        }
      ]
    },
    {
      "cell_type": "code",
      "source": [],
      "metadata": {
        "id": "zU2RxyHodUwG"
      },
      "execution_count": 71,
      "outputs": []
    },
    {
      "cell_type": "markdown",
      "metadata": {
        "id": "-K3ISILq8qp5"
      },
      "source": [
        "### 2. Prepare your Final Model\n",
        "\n",
        "Here you can have your code to either train (e.g., if you are building it from scratch) your model. These steps may require you to use other packages or python files. You can just call them here. You don't have to include them in your submission. Remember that we will be looking at the saved outputs in the notebooked and we will not run the entire notebook."
      ]
    },
    {
      "cell_type": "code",
      "execution_count": 72,
      "metadata": {
        "id": "OjTT6eN78qp5"
      },
      "outputs": [],
      "source": [
        "from tensorflow.keras.preprocessing.image import ImageDataGenerator\n",
        "from tensorflow.keras.models import Sequential\n",
        "from keras.layers import Dense, Dropout, Flatten, Conv2D, MaxPool2D, BatchNormalization,MaxPooling2D\n",
        "from keras.optimizers import RMSprop,Adam\n",
        "Generator_Basic = ImageDataGenerator(rescale=1./255,validation_split=0.1)"
      ]
    },
    {
      "cell_type": "code",
      "source": [
        "Train_Set = Generator_Basic.flow_from_dataframe(dataframe=train_data,\n",
        "                                               x_col=\"JPG\",\n",
        "                                               y_col=\"TUMOR_CATEGORY\",\n",
        "                                               color_mode=\"grayscale\",\n",
        "                                               class_mode=\"categorical\",\n",
        "                                               subset=\"training\",\n",
        "                                               batch_size=20,\n",
        "                                               target_size=(200,200))"
      ],
      "metadata": {
        "colab": {
          "base_uri": "https://localhost:8080/"
        },
        "id": "IaGkiyycfjk0",
        "outputId": "60b21f95-6598-4f97-fc87-0dd0b2265def"
      },
      "execution_count": 73,
      "outputs": [
        {
          "output_type": "stream",
          "name": "stdout",
          "text": [
            "Found 2430 validated image filenames belonging to 2 classes.\n"
          ]
        }
      ]
    },
    {
      "cell_type": "code",
      "source": [
        "Validation_Set = Generator_Basic.flow_from_dataframe(dataframe=train_data,\n",
        "                                                     x_col=\"JPG\",\n",
        "                                                     y_col=\"TUMOR_CATEGORY\",\n",
        "                                                     color_mode=\"grayscale\",\n",
        "                                                     class_mode=\"categorical\",\n",
        "                                                     subset=\"validation\",\n",
        "                                                     batch_size=20,\n",
        "                                                     target_size=(200,200))"
      ],
      "metadata": {
        "colab": {
          "base_uri": "https://localhost:8080/"
        },
        "id": "g3GviI9Mfndj",
        "outputId": "15942975-8f57-412a-fc2a-d3312da44feb"
      },
      "execution_count": 74,
      "outputs": [
        {
          "output_type": "stream",
          "name": "stdout",
          "text": [
            "Found 270 validated image filenames belonging to 2 classes.\n"
          ]
        }
      ]
    },
    {
      "cell_type": "code",
      "source": [
        "Test_Set = Generator_Basic.flow_from_dataframe(dataframe=test_data,\n",
        "                                              x_col=\"JPG\",\n",
        "                                              y_col=\"TUMOR_CATEGORY\",\n",
        "                                              color_mode=\"grayscale\",\n",
        "                                              class_mode=\"categorical\",\n",
        "                                              batch_size=20,\n",
        "                                              target_size=(200,200))"
      ],
      "metadata": {
        "colab": {
          "base_uri": "https://localhost:8080/"
        },
        "id": "QEiI2s8zfqSF",
        "outputId": "3ebeb563-abbd-431d-d0dc-2830b228a810"
      },
      "execution_count": 75,
      "outputs": [
        {
          "output_type": "stream",
          "name": "stdout",
          "text": [
            "Found 300 validated image filenames belonging to 2 classes.\n"
          ]
        }
      ]
    },
    {
      "cell_type": "code",
      "source": [
        "from keras.models import Sequential\n",
        "from keras.layers import Conv2D, MaxPooling2D, Dropout, Flatten, Dense\n",
        "\n",
        "# Create a Sequential model\n",
        "model = Sequential()\n",
        "\n",
        "# Convolutional layers with increased depth and smaller kernel sizes\n",
        "model.add(Conv2D(64, (3, 3), activation='relu', input_shape=(200, 200, 1)))\n",
        "model.add(MaxPooling2D(pool_size=(2, 2)))\n",
        "model.add(Dropout(0.25))\n",
        "\n",
        "model.add(Conv2D(128, (3, 3), activation='relu'))\n",
        "model.add(MaxPooling2D(pool_size=(2, 2)))\n",
        "model.add(Dropout(0.25))\n",
        "\n",
        "model.add(Conv2D(256, (3, 3), activation='relu'))\n",
        "model.add(MaxPooling2D(pool_size=(2, 2)))\n",
        "model.add(Dropout(0.25))\n",
        "\n",
        "model.add(Conv2D(512, (3, 3), activation='relu'))\n",
        "model.add(MaxPooling2D(pool_size=(2, 2)))\n",
        "model.add(Dropout(0.25))\n",
        "\n",
        "# Flatten the output and add fully connected layers\n",
        "model.add(Flatten())\n",
        "model.add(Dense(512, activation='relu'))\n",
        "model.add(Dropout(0.5))\n",
        "model.add(Dense(2, activation='softmax'))\n",
        "\n",
        "\n",
        "\n",
        "# Print the model summary\n",
        "model.summary()\n"
      ],
      "metadata": {
        "colab": {
          "base_uri": "https://localhost:8080/"
        },
        "id": "WA-On3W6f8Ug",
        "outputId": "3d0408ae-2e6d-4363-a2ee-7fe75ee550ec"
      },
      "execution_count": 76,
      "outputs": [
        {
          "output_type": "stream",
          "name": "stdout",
          "text": [
            "Model: \"sequential_1\"\n",
            "_________________________________________________________________\n",
            " Layer (type)                Output Shape              Param #   \n",
            "=================================================================\n",
            " conv2d_4 (Conv2D)           (None, 198, 198, 64)      640       \n",
            "                                                                 \n",
            " max_pooling2d_4 (MaxPoolin  (None, 99, 99, 64)        0         \n",
            " g2D)                                                            \n",
            "                                                                 \n",
            " dropout_5 (Dropout)         (None, 99, 99, 64)        0         \n",
            "                                                                 \n",
            " conv2d_5 (Conv2D)           (None, 97, 97, 128)       73856     \n",
            "                                                                 \n",
            " max_pooling2d_5 (MaxPoolin  (None, 48, 48, 128)       0         \n",
            " g2D)                                                            \n",
            "                                                                 \n",
            " dropout_6 (Dropout)         (None, 48, 48, 128)       0         \n",
            "                                                                 \n",
            " conv2d_6 (Conv2D)           (None, 46, 46, 256)       295168    \n",
            "                                                                 \n",
            " max_pooling2d_6 (MaxPoolin  (None, 23, 23, 256)       0         \n",
            " g2D)                                                            \n",
            "                                                                 \n",
            " dropout_7 (Dropout)         (None, 23, 23, 256)       0         \n",
            "                                                                 \n",
            " conv2d_7 (Conv2D)           (None, 21, 21, 512)       1180160   \n",
            "                                                                 \n",
            " max_pooling2d_7 (MaxPoolin  (None, 10, 10, 512)       0         \n",
            " g2D)                                                            \n",
            "                                                                 \n",
            " dropout_8 (Dropout)         (None, 10, 10, 512)       0         \n",
            "                                                                 \n",
            " flatten_1 (Flatten)         (None, 51200)             0         \n",
            "                                                                 \n",
            " dense_2 (Dense)             (None, 512)               26214912  \n",
            "                                                                 \n",
            " dropout_9 (Dropout)         (None, 512)               0         \n",
            "                                                                 \n",
            " dense_3 (Dense)             (None, 2)                 1026      \n",
            "                                                                 \n",
            "=================================================================\n",
            "Total params: 27765762 (105.92 MB)\n",
            "Trainable params: 27765762 (105.92 MB)\n",
            "Non-trainable params: 0 (0.00 Byte)\n",
            "_________________________________________________________________\n"
          ]
        }
      ]
    },
    {
      "cell_type": "code",
      "source": [
        "#MODEL COMPILE\n",
        "#Model.compile(optimizer=RMSprop(lr=0.001),loss=\"categorical_crossentropy\",metrics=[\"accuracy\"])\n",
        "# Compile the model\n",
        "model.compile(optimizer='adam', loss='categorical_crossentropy', metrics=['accuracy'])"
      ],
      "metadata": {
        "id": "V8S404IpgMi9"
      },
      "execution_count": 77,
      "outputs": []
    },
    {
      "cell_type": "code",
      "source": [
        "#MODEL FITTING\n",
        "ANN_Model = model.fit(Train_Set,validation_data=Validation_Set,\n",
        "                      epochs=10,steps_per_epoch=120)"
      ],
      "metadata": {
        "colab": {
          "base_uri": "https://localhost:8080/"
        },
        "id": "ODWmWTdOgN48",
        "outputId": "573bb5e6-1350-4318-9edf-2f516b66a6d8"
      },
      "execution_count": 78,
      "outputs": [
        {
          "output_type": "stream",
          "name": "stdout",
          "text": [
            "Epoch 1/10\n",
            "120/120 [==============================] - 20s 145ms/step - loss: 0.5946 - accuracy: 0.7201 - val_loss: 0.4699 - val_accuracy: 0.7815\n",
            "Epoch 2/10\n",
            "120/120 [==============================] - 14s 119ms/step - loss: 0.4261 - accuracy: 0.8079 - val_loss: 0.3634 - val_accuracy: 0.8259\n",
            "Epoch 3/10\n",
            "120/120 [==============================] - 15s 121ms/step - loss: 0.3257 - accuracy: 0.8696 - val_loss: 0.3183 - val_accuracy: 0.8778\n",
            "Epoch 4/10\n",
            "120/120 [==============================] - 14s 119ms/step - loss: 0.2472 - accuracy: 0.8983 - val_loss: 0.2129 - val_accuracy: 0.9074\n",
            "Epoch 5/10\n",
            "120/120 [==============================] - 14s 120ms/step - loss: 0.1823 - accuracy: 0.9280 - val_loss: 0.1521 - val_accuracy: 0.9519\n",
            "Epoch 6/10\n",
            "120/120 [==============================] - 15s 121ms/step - loss: 0.1477 - accuracy: 0.9498 - val_loss: 0.1311 - val_accuracy: 0.9556\n",
            "Epoch 7/10\n",
            "120/120 [==============================] - 14s 119ms/step - loss: 0.0961 - accuracy: 0.9669 - val_loss: 0.0975 - val_accuracy: 0.9667\n",
            "Epoch 8/10\n",
            "120/120 [==============================] - 14s 118ms/step - loss: 0.0842 - accuracy: 0.9703 - val_loss: 0.0847 - val_accuracy: 0.9667\n",
            "Epoch 9/10\n",
            "120/120 [==============================] - 17s 139ms/step - loss: 0.0729 - accuracy: 0.9720 - val_loss: 0.0638 - val_accuracy: 0.9778\n",
            "Epoch 10/10\n",
            "120/120 [==============================] - 14s 119ms/step - loss: 0.0770 - accuracy: 0.9690 - val_loss: 0.0684 - val_accuracy: 0.9815\n"
          ]
        }
      ]
    },
    {
      "cell_type": "markdown",
      "metadata": {
        "nbgrader": {
          "grade": false,
          "locked": true,
          "solution": false
        },
        "id": "ofGOo3lM8qp5"
      },
      "source": [
        "### 3. Model Performance\n",
        "\n",
        "Make sure to include the following:\n",
        "- Performance on the training set\n",
        "- Performance on the test set\n",
        "- Provide some screenshots of your output (e.g., pictures, text output, or a histogram of predicted values in the case of tabular data). Any visualization of the predictions are welcome."
      ]
    },
    {
      "cell_type": "code",
      "source": [
        "# Evaluate model on the training set\n",
        "train_loss, train_accuracy = model.evaluate(Train_Set, verbose=0)\n",
        "print(\"Training Loss:\", train_loss)\n",
        "print(\"Training Accuracy:\", train_accuracy)\n",
        "\n",
        "# Evaluate model on the test set\n",
        "test_loss, test_accuracy = model.evaluate(Test_Set, verbose=0)\n",
        "print(\"Test Loss:\", test_loss)\n",
        "print(\"Test Accuracy:\", test_accuracy)\n"
      ],
      "metadata": {
        "id": "4hJphdA_CJL8",
        "colab": {
          "base_uri": "https://localhost:8080/"
        },
        "outputId": "af6589ce-112a-454e-8d84-c9ac84367fef"
      },
      "execution_count": 79,
      "outputs": [
        {
          "output_type": "stream",
          "name": "stdout",
          "text": [
            "Training Loss: 0.013137268833816051\n",
            "Training Accuracy: 0.9962962865829468\n",
            "Test Loss: 0.0877133309841156\n",
            "Test Accuracy: 0.9766666889190674\n"
          ]
        }
      ]
    },
    {
      "cell_type": "code",
      "source": [
        "import matplotlib.pyplot as plt\n",
        "\n",
        "# Plot training loss\n",
        "plt.plot(ANN_Model.history['loss'], label='Training Loss')\n",
        "plt.plot(ANN_Model.history['val_loss'], label='Validation Loss')\n",
        "plt.xlabel('Epoch')\n",
        "plt.ylabel('Loss')\n",
        "plt.title('Training and Validation Loss')\n",
        "plt.legend()\n",
        "plt.show()\n",
        "\n",
        "# Plot training accuracy\n",
        "plt.plot(ANN_Model.history['accuracy'], label='Training Accuracy')\n",
        "plt.plot(ANN_Model.history['val_accuracy'], label='Validation Accuracy')\n",
        "plt.xlabel('Epoch')\n",
        "plt.ylabel('Accuracy')\n",
        "plt.title('Training and Validation Accuracy')\n",
        "plt.legend()\n",
        "plt.show()\n"
      ],
      "metadata": {
        "colab": {
          "base_uri": "https://localhost:8080/",
          "height": 927
        },
        "id": "777q0Povpk-c",
        "outputId": "60f6c760-0a3f-4ab3-b7d0-fc17b81b709b"
      },
      "execution_count": 80,
      "outputs": [
        {
          "output_type": "display_data",
          "data": {
            "text/plain": [
              "<Figure size 640x480 with 1 Axes>"
            ],
            "image/png": "[encoded data removed]"
          },
          "metadata": {}
        },
        {
          "output_type": "display_data",
          "data": {
            "text/plain": [
              "<Figure size 640x480 with 1 Axes>"
            ],
            "image/png": "[encoded data removed]"
          },
          "metadata": {}
        }
      ]
    },
    {
      "cell_type": "code",
      "source": [],
      "metadata": {
        "id": "8T2sTRZNpoVr"
      },
      "execution_count": null,
      "outputs": []
    }
  ],
  "metadata": {
    "kernelspec": {
      "display_name": "Python 3",
      "name": "python3"
    },
    "language_info": {
      "codemirror_mode": {
        "name": "ipython",
        "version": 3
      },
      "file_extension": ".py",
      "mimetype": "text/x-python",
      "name": "python",
      "nbconvert_exporter": "python",
      "pygments_lexer": "ipython3",
      "version": "3.9.13"
    },
    "colab": {
      "provenance": [],
      "gpuType": "T4"
    },
    "accelerator": "GPU"
  },
  "nbformat": 4,
  "nbformat_minor": 0
}