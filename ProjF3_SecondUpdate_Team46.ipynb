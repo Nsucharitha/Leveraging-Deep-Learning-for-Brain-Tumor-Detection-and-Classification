{
  "cells": [
    {
      "cell_type": "markdown",
      "metadata": {
        "nbgrader": {
          "grade": false,
          "locked": true,
          "solution": false
        },
        "id": "QxpO46Ul8qp0"
      },
      "source": [
        "## ProjF3 - Baseline Model\n",
        "\n",
        "Use this document as a template to provide the evaluation of your baseline model. You are welcome to go in as much depth as needed.\n",
        "\n",
        "Make sure you keep the sections specified in this template, but you are welcome to add more cells with your code or explanation as needed."
      ]
    },
    {
      "cell_type": "code",
      "execution_count": 15,
      "metadata": {
        "nbgrader": {
          "grade": false,
          "locked": true,
          "solution": false
        },
        "id": "ibqBgqcr8qp3"
      },
      "outputs": [],
      "source": [
        "import numpy as np\n",
        "import pandas as pd\n",
        "import matplotlib.pyplot as plt"
      ]
    },
    {
      "cell_type": "markdown",
      "metadata": {
        "nbgrader": {
          "grade": false,
          "locked": true,
          "solution": false
        },
        "id": "DVrK750r8qp4"
      },
      "source": [
        "### 1. Load and Prepare Data\n",
        "\n",
        "This should illustrate your code for loading the dataset and the split into training, validation and testing. You can add steps like pre-processing if needed."
      ]
    },
    {
      "cell_type": "code",
      "execution_count": 16,
      "metadata": {
        "nbgrader": {
          "grade": false,
          "locked": true,
          "solution": false
        },
        "id": "WB3iJ5Rl8qp4"
      },
      "outputs": [],
      "source": [
        "##TRAIN\n",
        "import os\n",
        "import os.path\n",
        "from pathlib import Path\n",
        "No_Data_Path = Path(\"sample_data/No\")\n",
        "Yes_Data_Path = Path(\"sample_data/Yes\")\n",
        "\n",
        "No_JPG_Path = list(No_Data_Path.glob(r\"*.jpg\"))\n",
        "Yes_JPG_Path = list(Yes_Data_Path.glob(r\"*.jpg\"))"
      ]
    },
    {
      "cell_type": "code",
      "source": [
        "print(No_JPG_Path[0:5])\n",
        "print(\"-----\"*20)\n",
        "print(Yes_JPG_Path[0:5])"
      ],
      "metadata": {
        "colab": {
          "base_uri": "https://localhost:8080/"
        },
        "id": "JXXP3RY-Uqei",
        "outputId": "ff43e9ab-30d6-422e-9795-11804753397a"
      },
      "execution_count": 17,
      "outputs": [
        {
          "output_type": "stream",
          "name": "stdout",
          "text": [
            "[PosixPath('sample_data/No/no1256.jpg'), PosixPath('sample_data/No/no1061.jpg'), PosixPath('sample_data/No/no413.jpg'), PosixPath('sample_data/No/no1245.jpg'), PosixPath('sample_data/No/no526.jpg')]\n",
            "----------------------------------------------------------------------------------------------------\n",
            "[PosixPath('sample_data/Yes/y581.jpg'), PosixPath('sample_data/Yes/y1345.jpg'), PosixPath('sample_data/Yes/y1077.jpg'), PosixPath('sample_data/Yes/y141.jpg'), PosixPath('sample_data/Yes/y1116.jpg')]\n"
          ]
        }
      ]
    },
    {
      "cell_type": "code",
      "source": [
        "Yes_No_List = []\n",
        "\n",
        "for No_JPG in No_JPG_Path:\n",
        "    Yes_No_List.append(No_JPG)\n",
        "\n",
        "for Yes_JPG in Yes_JPG_Path:\n",
        "    Yes_No_List.append(Yes_JPG)"
      ],
      "metadata": {
        "id": "77jXLsaZUyN2"
      },
      "execution_count": 18,
      "outputs": []
    },
    {
      "cell_type": "code",
      "source": [
        "print(Yes_No_List[0:10])"
      ],
      "metadata": {
        "colab": {
          "base_uri": "https://localhost:8080/"
        },
        "id": "9eZNTD7FU1b4",
        "outputId": "c3e9e988-9447-422c-ddbd-c97ef4934563"
      },
      "execution_count": 19,
      "outputs": [
        {
          "output_type": "stream",
          "name": "stdout",
          "text": [
            "[PosixPath('sample_data/No/no1256.jpg'), PosixPath('sample_data/No/no1061.jpg'), PosixPath('sample_data/No/no413.jpg'), PosixPath('sample_data/No/no1245.jpg'), PosixPath('sample_data/No/no526.jpg'), PosixPath('sample_data/No/no787.jpg'), PosixPath('sample_data/No/no986.jpg'), PosixPath('sample_data/No/no1217.jpg'), PosixPath('sample_data/No/no421.jpg'), PosixPath('sample_data/No/no742.jpg')]\n"
          ]
        }
      ]
    },
    {
      "cell_type": "code",
      "source": [
        "JPG_Labels = list(map(lambda x: os.path.split(os.path.split(x)[0])[1],Yes_No_List))"
      ],
      "metadata": {
        "id": "ff9brpE_U2yb"
      },
      "execution_count": 20,
      "outputs": []
    },
    {
      "cell_type": "code",
      "source": [
        "print(JPG_Labels[0:10])\n",
        "print(\"NO COUNTING: \", JPG_Labels.count(\"No\"))\n",
        "print(\"YES COUNTING: \", JPG_Labels.count(\"Yes\"))"
      ],
      "metadata": {
        "colab": {
          "base_uri": "https://localhost:8080/"
        },
        "id": "xHegbL2XVD13",
        "outputId": "a0f7e208-1a59-4aeb-d515-6329a28cd58f"
      },
      "execution_count": 21,
      "outputs": [
        {
          "output_type": "stream",
          "name": "stdout",
          "text": [
            "['No', 'No', 'No', 'No', 'No', 'No', 'No', 'No', 'No', 'No']\n",
            "NO COUNTING:  1500\n",
            "YES COUNTING:  1500\n"
          ]
        }
      ]
    },
    {
      "cell_type": "code",
      "source": [
        "JPG_Path_Series = pd.Series(Yes_No_List,name=\"JPG\").astype(str)\n",
        "JPG_Category_Series = pd.Series(JPG_Labels,name=\"TUMOR_CATEGORY\")\n"
      ],
      "metadata": {
        "id": "74nvOxPNVGvy"
      },
      "execution_count": 22,
      "outputs": []
    },
    {
      "cell_type": "code",
      "source": [
        "##TEST\n",
        "Prediction_Path = Path(\"drive/MyDrive/pred\")\n",
        "Test_JPG_Path = list(Prediction_Path.glob(r\"*.jpg\"))\n",
        "Test_JPG_Labels = list(map(lambda x: os.path.split(os.path.split(x)[0])[1],Test_JPG_Path))\n"
      ],
      "metadata": {
        "id": "A2y5BjtoVHyx"
      },
      "execution_count": 23,
      "outputs": []
    },
    {
      "cell_type": "code",
      "source": [
        "print(Test_JPG_Labels[0:5])"
      ],
      "metadata": {
        "colab": {
          "base_uri": "https://localhost:8080/"
        },
        "id": "O2CcAI0AVL4o",
        "outputId": "45850edb-d02f-474a-c8d4-9a8ee5660198"
      },
      "execution_count": 28,
      "outputs": [
        {
          "output_type": "stream",
          "name": "stdout",
          "text": [
            "[]\n"
          ]
        }
      ]
    },
    {
      "cell_type": "code",
      "source": [
        "Test_JPG_Path_Series = pd.Series(Test_JPG_Path,name=\"JPG\").astype(str)\n",
        "Test_JPG_Labels_Series = pd.Series(Test_JPG_Labels,name=\"TUMOR_CATEGORY\")\n",
        "Test_Data = pd.concat([Test_JPG_Path_Series,Test_JPG_Labels_Series],axis=1)"
      ],
      "metadata": {
        "id": "Da48aS43VRy4"
      },
      "execution_count": 29,
      "outputs": []
    },
    {
      "cell_type": "code",
      "source": [
        "print(Test_Data.head())"
      ],
      "metadata": {
        "colab": {
          "base_uri": "https://localhost:8080/"
        },
        "id": "7dFfdr4bVV2p",
        "outputId": "2d0a73e3-5790-4d54-ac8f-20a1bc8f6a71"
      },
      "execution_count": 30,
      "outputs": [
        {
          "output_type": "stream",
          "name": "stdout",
          "text": [
            "Empty DataFrame\n",
            "Columns: [JPG, TUMOR_CATEGORY]\n",
            "Index: []\n"
          ]
        }
      ]
    },
    {
      "cell_type": "code",
      "source": [
        "# Main Train Data\n",
        "Main_Train_Data = pd.concat([JPG_Path_Series,JPG_Category_Series],axis=1)\n",
        "print(Main_Train_Data.head(-1))"
      ],
      "metadata": {
        "colab": {
          "base_uri": "https://localhost:8080/"
        },
        "id": "-MLafFKeVYhs",
        "outputId": "de40caab-2260-4d3f-9c11-2f8393a2e98e"
      },
      "execution_count": 31,
      "outputs": [
        {
          "output_type": "stream",
          "name": "stdout",
          "text": [
            "                            JPG TUMOR_CATEGORY\n",
            "0     sample_data/No/no1256.jpg             No\n",
            "1     sample_data/No/no1061.jpg             No\n",
            "2      sample_data/No/no413.jpg             No\n",
            "3     sample_data/No/no1245.jpg             No\n",
            "4      sample_data/No/no526.jpg             No\n",
            "...                         ...            ...\n",
            "2994   sample_data/Yes/y317.jpg            Yes\n",
            "2995   sample_data/Yes/y700.jpg            Yes\n",
            "2996   sample_data/Yes/y608.jpg            Yes\n",
            "2997   sample_data/Yes/y598.jpg            Yes\n",
            "2998  sample_data/Yes/y1480.jpg            Yes\n",
            "\n",
            "[2999 rows x 2 columns]\n"
          ]
        }
      ]
    },
    {
      "cell_type": "code",
      "source": [
        "Main_Train_Data = Main_Train_Data.sample(frac=1).reset_index(drop=True)\n",
        "print(Main_Train_Data.head(-1))"
      ],
      "metadata": {
        "colab": {
          "base_uri": "https://localhost:8080/"
        },
        "id": "hiGft6tgVbLY",
        "outputId": "78f668af-5991-4b57-af75-5d3cd4c4090c"
      },
      "execution_count": 32,
      "outputs": [
        {
          "output_type": "stream",
          "name": "stdout",
          "text": [
            "                            JPG TUMOR_CATEGORY\n",
            "0     sample_data/Yes/y1112.jpg            Yes\n",
            "1      sample_data/Yes/y712.jpg            Yes\n",
            "2      sample_data/No/no275.jpg             No\n",
            "3      sample_data/Yes/y597.jpg            Yes\n",
            "4      sample_data/No/no521.jpg             No\n",
            "...                         ...            ...\n",
            "2994   sample_data/Yes/y430.jpg            Yes\n",
            "2995   sample_data/Yes/y646.jpg            Yes\n",
            "2996  sample_data/Yes/y1430.jpg            Yes\n",
            "2997  sample_data/No/no1104.jpg             No\n",
            "2998   sample_data/Yes/y496.jpg            Yes\n",
            "\n",
            "[2999 rows x 2 columns]\n"
          ]
        }
      ]
    },
    {
      "cell_type": "code",
      "source": [
        "from sklearn.model_selection import train_test_split\n",
        "train_data,test_data = train_test_split(Main_Train_Data,train_size=0.9,random_state=42)"
      ],
      "metadata": {
        "id": "B70LC3-4bIl-"
      },
      "execution_count": 33,
      "outputs": []
    },
    {
      "cell_type": "code",
      "source": [
        "print(train_data.shape)"
      ],
      "metadata": {
        "colab": {
          "base_uri": "https://localhost:8080/"
        },
        "id": "03fEy5QbfZGt",
        "outputId": "fa2eec12-409d-47da-ab5c-5c56e1bd2872"
      },
      "execution_count": 34,
      "outputs": [
        {
          "output_type": "stream",
          "name": "stdout",
          "text": [
            "(2700, 2)\n"
          ]
        }
      ]
    },
    {
      "cell_type": "code",
      "source": [
        "print(train_data.head())"
      ],
      "metadata": {
        "colab": {
          "base_uri": "https://localhost:8080/"
        },
        "id": "Mrr-r8Yifc7a",
        "outputId": "83077fcc-8c0b-41b5-8c66-ce38b853c8f2"
      },
      "execution_count": 35,
      "outputs": [
        {
          "output_type": "stream",
          "name": "stdout",
          "text": [
            "                            JPG TUMOR_CATEGORY\n",
            "433    sample_data/Yes/y764.jpg            Yes\n",
            "1151  sample_data/Yes/y1273.jpg            Yes\n",
            "73    sample_data/Yes/y1311.jpg            Yes\n",
            "1536   sample_data/Yes/y321.jpg            Yes\n",
            "2709    sample_data/No/no58.jpg             No\n"
          ]
        }
      ]
    },
    {
      "cell_type": "code",
      "source": [
        "print(test_data.shape)"
      ],
      "metadata": {
        "colab": {
          "base_uri": "https://localhost:8080/"
        },
        "id": "vDEmU39ZffhA",
        "outputId": "9b7d1fcb-f822-423f-ba3f-c46a74475f1e"
      },
      "execution_count": 36,
      "outputs": [
        {
          "output_type": "stream",
          "name": "stdout",
          "text": [
            "(300, 2)\n"
          ]
        }
      ]
    },
    {
      "cell_type": "code",
      "source": [
        "print(test_data.head())"
      ],
      "metadata": {
        "colab": {
          "base_uri": "https://localhost:8080/"
        },
        "id": "zqFuSPfvfite",
        "outputId": "3b9558a8-d993-43c2-a5b0-f1df33704fd7"
      },
      "execution_count": 37,
      "outputs": [
        {
          "output_type": "stream",
          "name": "stdout",
          "text": [
            "                            JPG TUMOR_CATEGORY\n",
            "1801   sample_data/Yes/y686.jpg            Yes\n",
            "1190   sample_data/No/no630.jpg             No\n",
            "1817  sample_data/No/no1427.jpg             No\n",
            "251   sample_data/No/no1307.jpg             No\n",
            "2505   sample_data/No/no897.jpg             No\n"
          ]
        }
      ]
    },
    {
      "cell_type": "markdown",
      "metadata": {
        "id": "-K3ISILq8qp5"
      },
      "source": [
        "### 2. Prepare your Baseline Model\n",
        "\n",
        "Here you can have your code to either train (e.g., if you are building it from scratch) or load (e.g., in the case that you are loading a pre-trained model) your model. These steps may require you to use other packages or python files. You can just call them here. You don't have to include them in your submission. Remember that we will be looking at the saved outputs in the notebooked and we will not run the entire notebook."
      ]
    },
    {
      "cell_type": "code",
      "execution_count": 38,
      "metadata": {
        "id": "OjTT6eN78qp5"
      },
      "outputs": [],
      "source": [
        "### YOUR CODE HERE\n",
        "#IMAGE DATA GENERATOR WITHOUT DIVERSIFICATION\n",
        "from tensorflow.keras.preprocessing.image import ImageDataGenerator\n",
        "from tensorflow.keras.models import Sequential\n",
        "from keras.layers import Dense, Dropout, Flatten, Conv2D, MaxPool2D, BatchNormalization,MaxPooling2D\n",
        "from keras.optimizers import RMSprop,Adam\n",
        "Generator_Basic = ImageDataGenerator(rescale=1./255,validation_split=0.1)"
      ]
    },
    {
      "cell_type": "code",
      "source": [
        "Train_Set = Generator_Basic.flow_from_dataframe(dataframe=train_data,\n",
        "                                               x_col=\"JPG\",\n",
        "                                               y_col=\"TUMOR_CATEGORY\",\n",
        "                                               color_mode=\"grayscale\",\n",
        "                                               class_mode=\"categorical\",\n",
        "                                               subset=\"training\",\n",
        "                                               batch_size=20,\n",
        "                                               target_size=(200,200))"
      ],
      "metadata": {
        "colab": {
          "base_uri": "https://localhost:8080/"
        },
        "id": "_zVZtI7OiPoG",
        "outputId": "89e78dbc-0c44-4cd7-e156-23be16db1631"
      },
      "execution_count": 39,
      "outputs": [
        {
          "output_type": "stream",
          "name": "stdout",
          "text": [
            "Found 2430 validated image filenames belonging to 2 classes.\n"
          ]
        }
      ]
    },
    {
      "cell_type": "code",
      "source": [
        "Validation_Set = Generator_Basic.flow_from_dataframe(dataframe=train_data,\n",
        "                                                     x_col=\"JPG\",\n",
        "                                                     y_col=\"TUMOR_CATEGORY\",\n",
        "                                                     color_mode=\"grayscale\",\n",
        "                                                     class_mode=\"categorical\",\n",
        "                                                     subset=\"validation\",\n",
        "                                                     batch_size=20,\n",
        "                                                     target_size=(200,200))"
      ],
      "metadata": {
        "colab": {
          "base_uri": "https://localhost:8080/"
        },
        "id": "sDhZh_VliWl-",
        "outputId": "bf308466-ae8b-4980-c1a7-08fdafaf63ea"
      },
      "execution_count": 40,
      "outputs": [
        {
          "output_type": "stream",
          "name": "stdout",
          "text": [
            "Found 270 validated image filenames belonging to 2 classes.\n"
          ]
        }
      ]
    },
    {
      "cell_type": "code",
      "source": [
        "Test_Set = Generator_Basic.flow_from_dataframe(dataframe=test_data,\n",
        "                                              x_col=\"JPG\",\n",
        "                                              y_col=\"TUMOR_CATEGORY\",\n",
        "                                              color_mode=\"grayscale\",\n",
        "                                              class_mode=\"categorical\",\n",
        "                                              batch_size=20,\n",
        "                                              target_size=(200,200))"
      ],
      "metadata": {
        "colab": {
          "base_uri": "https://localhost:8080/"
        },
        "id": "aNoFDg4WiZNT",
        "outputId": "2a1b85e7-b9c9-4368-b834-539a33baf3a7"
      },
      "execution_count": 41,
      "outputs": [
        {
          "output_type": "stream",
          "name": "stdout",
          "text": [
            "Found 300 validated image filenames belonging to 2 classes.\n"
          ]
        }
      ]
    },
    {
      "cell_type": "code",
      "source": [
        "#CNN MODEL FOR NON-DIVERSIFICATION\n",
        "#MODEL STRUCTURE\n",
        "Model = Sequential()\n",
        "\n",
        "Model.add(Conv2D(32,(5,5),activation=\"relu\",input_shape=(200,200,1)))\n",
        "Model.add(MaxPool2D((2,2)))\n",
        "Model.add(Dropout(0.2))\n",
        "#\n",
        "Model.add(Conv2D(64,(3,3),activation=\"relu\"))\n",
        "Model.add(MaxPool2D((2,2)))\n",
        "Model.add(Dropout(0.2))\n",
        "#\n",
        "Model.add(Conv2D(128,(3,3),activation=\"relu\"))\n",
        "Model.add(MaxPool2D((2,2)))\n",
        "Model.add(Dropout(0.2))\n",
        "#\n",
        "Model.add(Conv2D(256,(3,3),activation=\"relu\"))\n",
        "Model.add(MaxPool2D((2,2)))\n",
        "Model.add(Dropout(0.2))\n",
        "#\n",
        "Model.add(Flatten())\n",
        "Model.add(Dropout(0.5))\n",
        "Model.add(Dense(512,activation=\"relu\"))\n",
        "Model.add(Dense(2,activation=\"softmax\"))"
      ],
      "metadata": {
        "id": "J533lQwBifdx"
      },
      "execution_count": 42,
      "outputs": []
    },
    {
      "cell_type": "code",
      "source": [
        "#MODEL COMPILE\n",
        "Model.compile(optimizer=RMSprop(lr=0.001),loss=\"categorical_crossentropy\",metrics=[\"accuracy\"])"
      ],
      "metadata": {
        "colab": {
          "base_uri": "https://localhost:8080/"
        },
        "id": "MKkjGf69jLgg",
        "outputId": "543c56a8-eb84-4bc5-9082-4307680a01f1"
      },
      "execution_count": 43,
      "outputs": [
        {
          "output_type": "stream",
          "name": "stderr",
          "text": [
            "WARNING:absl:`lr` is deprecated in Keras optimizer, please use `learning_rate` or use the legacy optimizer, e.g.,tf.keras.optimizers.legacy.RMSprop.\n"
          ]
        }
      ]
    },
    {
      "cell_type": "code",
      "source": [
        "#MODEL FITTING\n",
        "ANN_Model = Model.fit(Train_Set,validation_data=Validation_Set,\n",
        "                      epochs=10,steps_per_epoch=120)"
      ],
      "metadata": {
        "colab": {
          "base_uri": "https://localhost:8080/"
        },
        "id": "f3x-L4qujWVg",
        "outputId": "4ccea894-6140-4688-82cb-bdf65ebc9eec"
      },
      "execution_count": 45,
      "outputs": [
        {
          "output_type": "stream",
          "name": "stdout",
          "text": [
            "Epoch 1/10\n",
            "120/120 [==============================] - 283s 2s/step - loss: 0.3591 - accuracy: 0.8452 - val_loss: 0.2636 - val_accuracy: 0.8963\n",
            "Epoch 2/10\n",
            "120/120 [==============================] - 280s 2s/step - loss: 0.2819 - accuracy: 0.8870 - val_loss: 0.2181 - val_accuracy: 0.9148\n",
            "Epoch 3/10\n",
            "120/120 [==============================] - 285s 2s/step - loss: 0.2246 - accuracy: 0.9138 - val_loss: 0.4223 - val_accuracy: 0.8148\n",
            "Epoch 4/10\n",
            "120/120 [==============================] - 284s 2s/step - loss: 0.1823 - accuracy: 0.9259 - val_loss: 0.1234 - val_accuracy: 0.9630\n",
            "Epoch 5/10\n",
            "120/120 [==============================] - 290s 2s/step - loss: 0.1280 - accuracy: 0.9569 - val_loss: 0.1179 - val_accuracy: 0.9556\n",
            "Epoch 6/10\n",
            "120/120 [==============================] - 287s 2s/step - loss: 0.1284 - accuracy: 0.9544 - val_loss: 0.0968 - val_accuracy: 0.9778\n",
            "Epoch 7/10\n",
            "120/120 [==============================] - 289s 2s/step - loss: 0.0959 - accuracy: 0.9640 - val_loss: 0.1311 - val_accuracy: 0.9519\n",
            "Epoch 8/10\n",
            "120/120 [==============================] - 289s 2s/step - loss: 0.0915 - accuracy: 0.9678 - val_loss: 0.0892 - val_accuracy: 0.9593\n",
            "Epoch 9/10\n",
            "120/120 [==============================] - 299s 2s/step - loss: 0.0660 - accuracy: 0.9782 - val_loss: 0.1111 - val_accuracy: 0.9667\n",
            "Epoch 10/10\n",
            "120/120 [==============================] - 270s 2s/step - loss: 0.0558 - accuracy: 0.9792 - val_loss: 0.0986 - val_accuracy: 0.9704\n"
          ]
        }
      ]
    },
    {
      "cell_type": "code",
      "source": [
        "print(Model.summary())"
      ],
      "metadata": {
        "colab": {
          "base_uri": "https://localhost:8080/"
        },
        "id": "6w0IWGrQk7gS",
        "outputId": "939ea5cc-d13d-4ab9-fc16-3f160474a1e9"
      },
      "execution_count": 46,
      "outputs": [
        {
          "output_type": "stream",
          "name": "stdout",
          "text": [
            "Model: \"sequential\"\n",
            "_________________________________________________________________\n",
            " Layer (type)                Output Shape              Param #   \n",
            "=================================================================\n",
            " conv2d (Conv2D)             (None, 196, 196, 32)      832       \n",
            "                                                                 \n",
            " max_pooling2d (MaxPooling2  (None, 98, 98, 32)        0         \n",
            " D)                                                              \n",
            "                                                                 \n",
            " dropout (Dropout)           (None, 98, 98, 32)        0         \n",
            "                                                                 \n",
            " conv2d_1 (Conv2D)           (None, 96, 96, 64)        18496     \n",
            "                                                                 \n",
            " max_pooling2d_1 (MaxPoolin  (None, 48, 48, 64)        0         \n",
            " g2D)                                                            \n",
            "                                                                 \n",
            " dropout_1 (Dropout)         (None, 48, 48, 64)        0         \n",
            "                                                                 \n",
            " conv2d_2 (Conv2D)           (None, 46, 46, 128)       73856     \n",
            "                                                                 \n",
            " max_pooling2d_2 (MaxPoolin  (None, 23, 23, 128)       0         \n",
            " g2D)                                                            \n",
            "                                                                 \n",
            " dropout_2 (Dropout)         (None, 23, 23, 128)       0         \n",
            "                                                                 \n",
            " conv2d_3 (Conv2D)           (None, 21, 21, 256)       295168    \n",
            "                                                                 \n",
            " max_pooling2d_3 (MaxPoolin  (None, 10, 10, 256)       0         \n",
            " g2D)                                                            \n",
            "                                                                 \n",
            " dropout_3 (Dropout)         (None, 10, 10, 256)       0         \n",
            "                                                                 \n",
            " flatten (Flatten)           (None, 25600)             0         \n",
            "                                                                 \n",
            " dropout_4 (Dropout)         (None, 25600)             0         \n",
            "                                                                 \n",
            " dense (Dense)               (None, 512)               13107712  \n",
            "                                                                 \n",
            " dense_1 (Dense)             (None, 2)                 1026      \n",
            "                                                                 \n",
            "=================================================================\n",
            "Total params: 13497090 (51.49 MB)\n",
            "Trainable params: 13497090 (51.49 MB)\n",
            "Non-trainable params: 0 (0.00 Byte)\n",
            "_________________________________________________________________\n",
            "None\n"
          ]
        }
      ]
    },
    {
      "cell_type": "markdown",
      "metadata": {
        "nbgrader": {
          "grade": false,
          "locked": true,
          "solution": false
        },
        "id": "ofGOo3lM8qp5"
      },
      "source": [
        "### 3. Baseline Performance\n",
        "\n",
        "Make sure to include the following:\n",
        "- Performance on the training set\n",
        "- Performance on the test set\n",
        "- Provide some screenshots of your output (e.g., pictures, text output, or a histogram of predicted values in the case of tabular data). Any visualization of the predictions are welcome."
      ]
    },
    {
      "cell_type": "code",
      "source": [
        "### YOUR CODE HERE\n",
        "# Evaluate performance on training set\n",
        "train_loss, train_accuracy = Model.evaluate(Train_Set)\n",
        "print(f\"Training Loss: {train_loss:.4f}\")\n",
        "print(f\"Training Accuracy: {train_accuracy:.4f}\")\n",
        "\n",
        "# Evaluate performance on test set\n",
        "test_loss, test_accuracy = Model.evaluate(Test_Set)\n",
        "print(f\"Test Loss: {test_loss:.4f}\")\n",
        "print(f\"Test Accuracy: {test_accuracy:.4f}\")\n"
      ],
      "metadata": {
        "id": "4hJphdA_CJL8",
        "colab": {
          "base_uri": "https://localhost:8080/"
        },
        "outputId": "1462b897-6983-46b8-cda8-f82f44bb17b3"
      },
      "execution_count": 47,
      "outputs": [
        {
          "output_type": "stream",
          "name": "stdout",
          "text": [
            "122/122 [==============================] - 71s 579ms/step - loss: 0.0333 - accuracy: 0.9897\n",
            "Training Loss: 0.0333\n",
            "Training Accuracy: 0.9897\n",
            "15/15 [==============================] - 8s 540ms/step - loss: 0.1136 - accuracy: 0.9533\n",
            "Test Loss: 0.1136\n",
            "Test Accuracy: 0.9533\n"
          ]
        }
      ]
    },
    {
      "cell_type": "code",
      "source": [
        "# Plot training and validation accuracy\n",
        "plt.plot(ANN_Model.history['accuracy'], label='Training Accuracy')\n",
        "plt.plot(ANN_Model.history['val_accuracy'], label='Validation Accuracy')\n",
        "plt.title('Training and Validation Accuracy')\n",
        "plt.xlabel('Epochs')\n",
        "plt.ylabel('Accuracy')\n",
        "plt.legend()\n",
        "plt.show()\n",
        "\n",
        "# Plot training and validation loss\n",
        "plt.plot(ANN_Model.history['loss'], label='Training Loss')\n",
        "plt.plot(ANN_Model.history['val_loss'], label='Validation Loss')\n",
        "plt.title('Training and Validation Loss')\n",
        "plt.xlabel('Epochs')\n",
        "plt.ylabel('Loss')\n",
        "plt.legend()\n",
        "plt.show()\n"
      ],
      "metadata": {
        "colab": {
          "base_uri": "https://localhost:8080/",
          "height": 927
        },
        "id": "C9E3bdsYmKbo",
        "outputId": "eb8e972b-0b02-4e05-c05b-0e5c1a53f0b4"
      },
      "execution_count": 48,
      "outputs": [
        {
          "output_type": "display_data",
          "data": {
            "text/plain": [
              "<Figure size 640x480 with 1 Axes>"
            ],
            "image/png": "[encoded data removed]"
          },
          "metadata": {}
        },
        {
          "output_type": "display_data",
          "data": {
            "text/plain": [
              "<Figure size 640x480 with 1 Axes>"
            ],
            "image/png": "[encoded data removed]"
          },
          "metadata": {}
        }
      ]
    },
    {
      "cell_type": "code",
      "source": [],
      "metadata": {
        "id": "4-6LGf8nmQDF"
      },
      "execution_count": null,
      "outputs": []
    }
  ],
  "metadata": {
    "kernelspec": {
      "display_name": "Python 3 [3.10]",
      "language": "python",
      "name": "python3"
    },
    "language_info": {
      "codemirror_mode": {
        "name": "ipython",
        "version": 3
      },
      "file_extension": ".py",
      "mimetype": "text/x-python",
      "name": "python",
      "nbconvert_exporter": "python",
      "pygments_lexer": "ipython3",
      "version": "3.9.13"
    },
    "colab": {
      "provenance": []
    }
  },
  "nbformat": 4,
  "nbformat_minor": 0
}